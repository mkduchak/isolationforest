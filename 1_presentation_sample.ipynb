{
 "cells": [
  {
   "cell_type": "code",
   "execution_count": 78,
   "metadata": {
    "collapsed": true
   },
   "outputs": [],
   "source": [
    "import numpy as np\n",
    "import pandas as pd\n",
    "import matplotlib.pyplot as plt\n",
    "from sklearn.ensemble import IsolationForest\n",
    "import seaborn as sns\n",
    "%matplotlib inline\n",
    "rng = np.random.RandomState(10)"
   ]
  },
  {
   "cell_type": "code",
   "execution_count": 55,
   "metadata": {},
   "outputs": [],
   "source": [
    "X = (.7 *rng.randn(100, 2))+3\n",
    "X_outliers = rng.uniform(low=1, high=9, size=(20, 2))"
   ]
  },
  {
   "cell_type": "code",
   "execution_count": 62,
   "metadata": {},
   "outputs": [
    {
     "data": {
      "text/plain": [
       "array([[ 2.70635497,  3.88945965],\n",
       "       [ 1.89652727,  3.46939457],\n",
       "       [ 3.70563401,  4.26210967],\n",
       "       [ 2.97172374,  2.56497021],\n",
       "       [ 1.93045591,  3.13976392],\n",
       "       [ 2.29515785,  3.0436282 ],\n",
       "       [ 2.86682497,  3.2974553 ],\n",
       "       [ 2.879664  ,  2.89911205],\n",
       "       [ 3.85924239,  3.05515826],\n",
       "       [ 3.86942286,  2.43169273],\n",
       "       [ 3.31243117,  3.24976681],\n",
       "       [ 2.69369508,  2.2013688 ],\n",
       "       [ 2.33830031,  3.23122617],\n",
       "       [ 3.67294509,  3.17168191],\n",
       "       [ 3.93449183,  3.15975206],\n",
       "       [ 2.91951174,  3.03545752],\n",
       "       [ 3.56714453,  3.83119024],\n",
       "       [ 1.75063863,  3.25108225],\n",
       "       [ 3.09097945,  3.65048652],\n",
       "       [ 3.24395867,  2.56718811],\n",
       "       [ 1.85707894,  2.06267048],\n",
       "       [ 1.47403502,  4.45962978],\n",
       "       [ 3.02946271,  2.81025946],\n",
       "       [ 2.88072539,  3.05437079],\n",
       "       [ 3.05508433,  2.31678546],\n",
       "       [ 3.31958068,  2.63240656],\n",
       "       [ 3.33146495,  2.99593244],\n",
       "       [ 3.5062579 ,  3.19120321],\n",
       "       [ 1.86999251,  2.65471872],\n",
       "       [ 3.55367246,  3.06647068],\n",
       "       [ 3.36953708,  2.72523111],\n",
       "       [ 3.55725217,  2.5147091 ],\n",
       "       [ 3.73665256,  2.96770911],\n",
       "       [ 2.41600827,  3.38563071],\n",
       "       [ 3.14370476,  2.53714412],\n",
       "       [ 1.53724561,  3.41496343],\n",
       "       [ 3.46524042,  3.1052091 ],\n",
       "       [ 2.13273557,  2.62594029],\n",
       "       [ 3.48846961,  2.34054612],\n",
       "       [ 2.40476279,  2.52785125],\n",
       "       [ 3.76692529,  2.40743386],\n",
       "       [ 2.00394995,  3.10778215],\n",
       "       [ 3.82936373,  2.12264271],\n",
       "       [ 3.3844828 ,  3.48633838],\n",
       "       [ 2.5798249 ,  2.90247232],\n",
       "       [ 3.02249256,  2.9508914 ],\n",
       "       [ 2.32247821,  3.94546776],\n",
       "       [ 1.76038442,  2.51168205],\n",
       "       [ 2.79660852,  3.9255168 ],\n",
       "       [ 2.28791941,  3.77208354],\n",
       "       [ 2.67454879,  2.41679213],\n",
       "       [ 1.92444537,  3.67556981],\n",
       "       [ 2.15847557,  2.99665103],\n",
       "       [ 2.94505387,  3.4403796 ],\n",
       "       [ 2.35572005,  3.50067263],\n",
       "       [ 3.11098023,  3.22045518],\n",
       "       [ 2.14487884,  3.8491999 ],\n",
       "       [ 3.26553988,  3.13999751],\n",
       "       [ 3.37726038,  1.34210861],\n",
       "       [ 3.31461132,  4.64279662],\n",
       "       [ 1.99264692,  3.35860646],\n",
       "       [ 4.15214449,  2.98404105],\n",
       "       [ 2.8912281 ,  3.25419997],\n",
       "       [ 2.7636919 ,  4.1211038 ],\n",
       "       [ 3.477528  ,  2.69072881],\n",
       "       [ 3.54635869,  2.1867603 ],\n",
       "       [ 2.75218777,  2.21121095],\n",
       "       [ 3.36266364,  3.1727467 ],\n",
       "       [ 2.65954615,  2.92237807],\n",
       "       [ 2.18628832,  2.8627474 ],\n",
       "       [ 1.75611976,  2.49337911],\n",
       "       [ 2.85913915,  2.02958956],\n",
       "       [ 2.72652291,  2.98333497],\n",
       "       [ 2.37820128,  4.27465675],\n",
       "       [ 2.39557613,  2.65948179],\n",
       "       [ 1.67424788,  4.13391141],\n",
       "       [ 3.73031555,  1.4678914 ],\n",
       "       [ 3.29060229,  2.90794519],\n",
       "       [ 3.59261831,  1.61459022],\n",
       "       [ 2.09774636,  2.3615094 ],\n",
       "       [ 3.42999442,  3.27941737],\n",
       "       [ 2.20441985,  2.43774095],\n",
       "       [ 2.72744613,  3.13823727],\n",
       "       [ 4.22347902,  3.06281513],\n",
       "       [ 3.09853183,  3.22475803],\n",
       "       [ 2.92338348,  4.19200784],\n",
       "       [ 3.4685945 ,  2.76363648],\n",
       "       [ 3.00669271,  2.94739031],\n",
       "       [ 4.09043925,  1.47451952],\n",
       "       [ 3.58894767,  3.30687363],\n",
       "       [ 2.68028429,  2.29037271],\n",
       "       [ 2.81934481,  2.42751124],\n",
       "       [ 3.44226039,  2.43606955],\n",
       "       [ 5.5264125 ,  2.84660062],\n",
       "       [ 2.41475013,  2.54085178],\n",
       "       [ 2.61613   ,  3.34730145],\n",
       "       [ 3.50429582,  3.21783262],\n",
       "       [ 2.52028461,  2.89537162],\n",
       "       [ 3.42017924,  4.17583571],\n",
       "       [ 2.41260575,  3.56914594],\n",
       "       [ 1.59083571,  5.22550968],\n",
       "       [ 6.32117228,  4.54504684],\n",
       "       [ 8.28223158,  7.6974569 ],\n",
       "       [ 1.51429809,  1.07459562],\n",
       "       [ 2.32538151,  6.87719568],\n",
       "       [ 6.51853394,  8.75492385],\n",
       "       [ 6.4192577 ,  1.35325871],\n",
       "       [ 6.37569761,  8.8949597 ],\n",
       "       [ 1.96044592,  4.64155056],\n",
       "       [ 6.37537128,  2.61157081],\n",
       "       [ 2.34789682,  3.8774596 ],\n",
       "       [ 3.27230717,  6.13742164],\n",
       "       [ 1.16758135,  5.54021698],\n",
       "       [ 7.47632369,  7.83483194],\n",
       "       [ 5.72091422,  3.58675806],\n",
       "       [ 2.20604784,  2.16163007],\n",
       "       [ 4.80428592,  5.90204707],\n",
       "       [ 4.01027404,  8.87781121],\n",
       "       [ 8.73941224,  3.95448835],\n",
       "       [ 1.6336783 ,  5.62124292]])"
      ]
     },
     "execution_count": 62,
     "metadata": {},
     "output_type": "execute_result"
    }
   ],
   "source": [
    "X_train = np.concatenate((X,X_outliers),axis=0)\n",
    "X_train"
   ]
  },
  {
   "cell_type": "code",
   "execution_count": 211,
   "metadata": {},
   "outputs": [
    {
     "data": {
      "text/plain": [
       "array([[ 3.1089936 ,  2.9952948 ],\n",
       "       [ 3.03974424,  1.68885332],\n",
       "       [ 4.11875983,  3.21325607],\n",
       "       [ 1.94413196,  4.99365197],\n",
       "       [ 1.82570909,  2.9205639 ],\n",
       "       [ 3.07870375,  3.09580333],\n",
       "       [ 2.44584916,  2.91825877],\n",
       "       [ 3.35216672,  4.28300755],\n",
       "       [ 2.71742863,  2.35817933],\n",
       "       [ 3.08898542,  3.46223082],\n",
       "       [ 7.3117094 ,  5.49901936],\n",
       "       [ 2.67873751,  2.40810877],\n",
       "       [ 3.34428941,  5.58970679],\n",
       "       [ 6.84422552,  6.3828942 ],\n",
       "       [ 8.68573701,  7.32356964],\n",
       "       [ 3.32050296,  5.16950373],\n",
       "       [ 6.86313779,  7.90965738],\n",
       "       [ 5.01969386,  1.83208173],\n",
       "       [ 8.04902208,  1.5838127 ],\n",
       "       [ 8.95541522,  4.64977661]])"
      ]
     },
     "execution_count": 211,
     "metadata": {},
     "output_type": "execute_result"
    }
   ],
   "source": [
    "X_testoutliers = rng.uniform(low=1, high=9, size=(10, 2))\n",
    "X_testnorm = (.7 *rng.randn(10, 2))+3\n",
    "X_test = np.concatenate((X_testnorm,X_testoutliers),axis=0)\n",
    "X_test"
   ]
  },
  {
   "cell_type": "code",
   "execution_count": 64,
   "metadata": {},
   "outputs": [
    {
     "data": {
      "image/png": "[encoded data removed]",
      "text/plain": [
       "<matplotlib.figure.Figure at 0x7fa912693e80>"
      ]
     },
     "metadata": {},
     "output_type": "display_data"
    }
   ],
   "source": [
    "plt.subplots(1, figsize=(10, 5))\n",
    "b1 = plt.scatter(X_train[:, 0], X_train[:, 1], c='green',\n",
    "                 s=45, edgecolor='k')\n",
    "\n",
    "plt.axis('tight')\n",
    "plt.xlim((0, 10))\n",
    "plt.ylim((0, 10))\n",
    "plt.legend([b1],\n",
    "           [\"training observations\"],\n",
    "           loc='best')\n",
    "plt.xlabel('',fontsize = 18)\n",
    "plt.ylabel('',fontsize = 18);"
   ]
  },
  {
   "cell_type": "code",
   "execution_count": 84,
   "metadata": {},
   "outputs": [
    {
     "data": {
      "image/png": "[encoded data removed]",
      "text/plain": [
       "<matplotlib.figure.Figure at 0x7fa90813ba90>"
      ]
     },
     "metadata": {},
     "output_type": "display_data"
    }
   ],
   "source": [
    "plt.subplots(1, figsize=(10, 5))\n",
    "b1 = plt.scatter(X_train[:, 0], X_train[:, 1], c='green',\n",
    "                 s=45, edgecolor='k')\n",
    "x = plt.scatter(X_train[-3,0], X_train[-3,1], c='orange',\n",
    "                 s=55, edgecolor='k')\n",
    "\n",
    "plt.axis('tight')\n",
    "plt.xlim((0, 10))\n",
    "plt.ylim((0, 10))\n",
    "plt.legend([b1,x],\n",
    "           [\"training observations\",\"outlier\"],\n",
    "           loc='best')\n",
    "plt.xlabel('',fontsize = 18)\n",
    "plt.ylabel('',fontsize = 18);"
   ]
  },
  {
   "cell_type": "code",
   "execution_count": 204,
   "metadata": {},
   "outputs": [],
   "source": [
    "isofortrain = IsolationForest(n_estimators = 1000,\n",
    "                             max_samples = 'auto', \n",
    "                             contamination = .20,\n",
    "                             max_features = 1,\n",
    "                             random_state = rng,\n",
    "                             n_jobs = -1)\n",
    "isofortrain.fit(X_train)\n",
    "anomalytrain = isofortrain.decision_function(X_train)\n",
    "predicttrain = isofortrain.predict(X_train)"
   ]
  },
  {
   "cell_type": "code",
   "execution_count": 205,
   "metadata": {},
   "outputs": [
    {
     "data": {
      "text/plain": [
       "(120, 2)"
      ]
     },
     "execution_count": 205,
     "metadata": {},
     "output_type": "execute_result"
    }
   ],
   "source": [
    "testframe = pd.DataFrame(X_train)\n",
    "testframe.shape"
   ]
  },
  {
   "cell_type": "code",
   "execution_count": 206,
   "metadata": {},
   "outputs": [
    {
     "data": {
      "text/html": [
       "<div>\n",
       "<style>\n",
       "    .dataframe thead tr:only-child th {\n",
       "        text-align: right;\n",
       "    }\n",
       "\n",
       "    .dataframe thead th {\n",
       "        text-align: left;\n",
       "    }\n",
       "\n",
       "    .dataframe tbody tr th {\n",
       "        vertical-align: top;\n",
       "    }\n",
       "</style>\n",
       "<table border=\"1\" class=\"dataframe\">\n",
       "  <thead>\n",
       "    <tr style=\"text-align: right;\">\n",
       "      <th></th>\n",
       "      <th>0</th>\n",
       "      <th>1</th>\n",
       "      <th>score</th>\n",
       "      <th>outlier</th>\n",
       "    </tr>\n",
       "  </thead>\n",
       "  <tbody>\n",
       "    <tr>\n",
       "      <th>115</th>\n",
       "      <td>2.206048</td>\n",
       "      <td>2.161630</td>\n",
       "      <td>0.040927</td>\n",
       "      <td>1</td>\n",
       "    </tr>\n",
       "    <tr>\n",
       "      <th>116</th>\n",
       "      <td>4.804286</td>\n",
       "      <td>5.902047</td>\n",
       "      <td>-0.094541</td>\n",
       "      <td>-1</td>\n",
       "    </tr>\n",
       "    <tr>\n",
       "      <th>117</th>\n",
       "      <td>4.010274</td>\n",
       "      <td>8.877811</td>\n",
       "      <td>-0.057537</td>\n",
       "      <td>-1</td>\n",
       "    </tr>\n",
       "    <tr>\n",
       "      <th>118</th>\n",
       "      <td>8.739412</td>\n",
       "      <td>3.954488</td>\n",
       "      <td>-0.078311</td>\n",
       "      <td>-1</td>\n",
       "    </tr>\n",
       "    <tr>\n",
       "      <th>119</th>\n",
       "      <td>1.633678</td>\n",
       "      <td>5.621243</td>\n",
       "      <td>-0.039224</td>\n",
       "      <td>-1</td>\n",
       "    </tr>\n",
       "  </tbody>\n",
       "</table>\n",
       "</div>"
      ],
      "text/plain": [
       "            0         1     score  outlier\n",
       "115  2.206048  2.161630  0.040927        1\n",
       "116  4.804286  5.902047 -0.094541       -1\n",
       "117  4.010274  8.877811 -0.057537       -1\n",
       "118  8.739412  3.954488 -0.078311       -1\n",
       "119  1.633678  5.621243 -0.039224       -1"
      ]
     },
     "execution_count": 206,
     "metadata": {},
     "output_type": "execute_result"
    }
   ],
   "source": [
    "testframe['score'] = anomalytrain\n",
    "testframe['outlier'] = predicttrain\n",
    "testframe.tail()"
   ]
  },
  {
   "cell_type": "code",
   "execution_count": 207,
   "metadata": {},
   "outputs": [
    {
     "data": {
      "image/png": "[encoded data removed]",
      "text/plain": [
       "<matplotlib.figure.Figure at 0x7fa903554e48>"
      ]
     },
     "metadata": {},
     "output_type": "display_data"
    }
   ],
   "source": [
    "sns.distplot(testframe['score'],hist=True, kde=True, color='g');"
   ]
  },
  {
   "cell_type": "code",
   "execution_count": 208,
   "metadata": {
    "collapsed": true
   },
   "outputs": [],
   "source": [
    "testnorm = testframe[testframe['outlier']==1]\n",
    "testout = testframe[testframe['outlier']==-1]"
   ]
  },
  {
   "cell_type": "code",
   "execution_count": 209,
   "metadata": {},
   "outputs": [
    {
     "data": {
      "image/png": "[encoded data removed]",
      "text/plain": [
       "<matplotlib.figure.Figure at 0x7fa903681b70>"
      ]
     },
     "metadata": {},
     "output_type": "display_data"
    }
   ],
   "source": [
    "plt.subplots(1, figsize=(10, 5))\n",
    "b1 = plt.scatter(testnorm[0], testnorm[1], c='green',\n",
    "                 s=45, edgecolor='k')\n",
    "x = plt.scatter(testout[0], testout[1], c='orange',\n",
    "                 s=55, edgecolor='k')\n",
    "\n",
    "plt.axis('tight')\n",
    "plt.xlim((0, 10))\n",
    "plt.ylim((0, 10))\n",
    "plt.legend([b1,x],\n",
    "           [\"training normal\",\"training outliers\"],\n",
    "           loc='best')\n",
    "plt.xlabel('',fontsize = 18)\n",
    "plt.ylabel('',fontsize = 18);"
   ]
  },
  {
   "cell_type": "code",
   "execution_count": 153,
   "metadata": {},
   "outputs": [],
   "source": [
    "trainnormdf = pd.DataFrame(X)\n",
    "trainnormdf['outlier'] = 1\n",
    "trainoutdf = pd.DataFrame(X_outliers)\n",
    "trainoutdf['outlier'] = -1\n",
    "X_train_sup = trainnormdf.append(trainoutdf)\n",
    "X_train_sup.columns.values[0] = 'x'\n",
    "X_train_sup.columns.values[1] = 'y'\n",
    "supdf = X_train_sup\n",
    "y_train = X_train_sup.pop('outlier')"
   ]
  },
  {
   "cell_type": "code",
   "execution_count": 214,
   "metadata": {
    "collapsed": true
   },
   "outputs": [],
   "source": [
    "isofortrainsup = IsolationForest(n_estimators = 1000,\n",
    "                             max_samples = 'auto', \n",
    "                             contamination = .20,\n",
    "                             max_features = 1,\n",
    "                             random_state = rng,\n",
    "                             n_jobs = -1)\n",
    "isofortrainsup.fit(X_train_sup,y_train)\n",
    "anomalytrainsup = isofortrainsup.decision_function(X_train_sup)\n",
    "predicttrainsup = isofortrainsup.predict(X_train_sup)"
   ]
  },
  {
   "cell_type": "code",
   "execution_count": 249,
   "metadata": {},
   "outputs": [
    {
     "data": {
      "text/plain": [
       "array([ 1,  1,  1,  1,  1,  1,  1,  1,  1,  1,  1,  1,  1,  1,  1,  1,  1,\n",
       "        1,  1,  1, -1, -1,  1,  1,  1,  1,  1,  1,  1,  1,  1,  1,  1,  1,\n",
       "        1,  1,  1,  1,  1,  1,  1,  1,  1,  1,  1,  1,  1,  1,  1,  1,  1,\n",
       "        1,  1,  1,  1,  1,  1,  1, -1,  1,  1,  1,  1,  1,  1,  1,  1,  1,\n",
       "        1,  1,  1,  1,  1,  1,  1, -1,  1,  1,  1,  1,  1,  1,  1,  1,  1,\n",
       "        1,  1,  1, -1,  1,  1,  1,  1, -1,  1,  1,  1,  1,  1,  1, -1, -1,\n",
       "       -1, -1, -1, -1, -1, -1, -1, -1,  1, -1, -1, -1, -1,  1, -1, -1, -1,\n",
       "       -1])"
      ]
     },
     "execution_count": 249,
     "metadata": {},
     "output_type": "execute_result"
    }
   ],
   "source": [
    "predicttrainsup"
   ]
  },
  {
   "cell_type": "code",
   "execution_count": 201,
   "metadata": {},
   "outputs": [
    {
     "data": {
      "text/html": [
       "<div>\n",
       "<style>\n",
       "    .dataframe thead tr:only-child th {\n",
       "        text-align: right;\n",
       "    }\n",
       "\n",
       "    .dataframe thead th {\n",
       "        text-align: left;\n",
       "    }\n",
       "\n",
       "    .dataframe tbody tr th {\n",
       "        vertical-align: top;\n",
       "    }\n",
       "</style>\n",
       "<table border=\"1\" class=\"dataframe\">\n",
       "  <thead>\n",
       "    <tr style=\"text-align: right;\">\n",
       "      <th></th>\n",
       "      <th>x</th>\n",
       "      <th>y</th>\n",
       "      <th>score</th>\n",
       "      <th>outlier</th>\n",
       "    </tr>\n",
       "  </thead>\n",
       "  <tbody>\n",
       "    <tr>\n",
       "      <th>0</th>\n",
       "      <td>1.590836</td>\n",
       "      <td>5.225510</td>\n",
       "      <td>-0.060653</td>\n",
       "      <td>-1</td>\n",
       "    </tr>\n",
       "    <tr>\n",
       "      <th>1</th>\n",
       "      <td>6.321172</td>\n",
       "      <td>4.545047</td>\n",
       "      <td>-0.061819</td>\n",
       "      <td>-1</td>\n",
       "    </tr>\n",
       "    <tr>\n",
       "      <th>2</th>\n",
       "      <td>8.282232</td>\n",
       "      <td>7.697457</td>\n",
       "      <td>-0.149238</td>\n",
       "      <td>-1</td>\n",
       "    </tr>\n",
       "    <tr>\n",
       "      <th>3</th>\n",
       "      <td>1.514298</td>\n",
       "      <td>1.074596</td>\n",
       "      <td>-0.089349</td>\n",
       "      <td>-1</td>\n",
       "    </tr>\n",
       "    <tr>\n",
       "      <th>4</th>\n",
       "      <td>2.325382</td>\n",
       "      <td>6.877196</td>\n",
       "      <td>-0.047846</td>\n",
       "      <td>-1</td>\n",
       "    </tr>\n",
       "    <tr>\n",
       "      <th>5</th>\n",
       "      <td>6.518534</td>\n",
       "      <td>8.754924</td>\n",
       "      <td>-0.122392</td>\n",
       "      <td>-1</td>\n",
       "    </tr>\n",
       "    <tr>\n",
       "      <th>6</th>\n",
       "      <td>6.419258</td>\n",
       "      <td>1.353259</td>\n",
       "      <td>-0.070890</td>\n",
       "      <td>-1</td>\n",
       "    </tr>\n",
       "    <tr>\n",
       "      <th>7</th>\n",
       "      <td>6.375698</td>\n",
       "      <td>8.894960</td>\n",
       "      <td>-0.092804</td>\n",
       "      <td>-1</td>\n",
       "    </tr>\n",
       "    <tr>\n",
       "      <th>8</th>\n",
       "      <td>1.960446</td>\n",
       "      <td>4.641551</td>\n",
       "      <td>-0.044492</td>\n",
       "      <td>-1</td>\n",
       "    </tr>\n",
       "    <tr>\n",
       "      <th>9</th>\n",
       "      <td>6.375371</td>\n",
       "      <td>2.611571</td>\n",
       "      <td>-0.012157</td>\n",
       "      <td>-1</td>\n",
       "    </tr>\n",
       "    <tr>\n",
       "      <th>10</th>\n",
       "      <td>2.347897</td>\n",
       "      <td>3.877460</td>\n",
       "      <td>0.057545</td>\n",
       "      <td>1</td>\n",
       "    </tr>\n",
       "    <tr>\n",
       "      <th>11</th>\n",
       "      <td>3.272307</td>\n",
       "      <td>6.137422</td>\n",
       "      <td>-0.027488</td>\n",
       "      <td>-1</td>\n",
       "    </tr>\n",
       "    <tr>\n",
       "      <th>12</th>\n",
       "      <td>1.167581</td>\n",
       "      <td>5.540217</td>\n",
       "      <td>-0.105986</td>\n",
       "      <td>-1</td>\n",
       "    </tr>\n",
       "    <tr>\n",
       "      <th>13</th>\n",
       "      <td>7.476324</td>\n",
       "      <td>7.834832</td>\n",
       "      <td>-0.140616</td>\n",
       "      <td>-1</td>\n",
       "    </tr>\n",
       "    <tr>\n",
       "      <th>14</th>\n",
       "      <td>5.720914</td>\n",
       "      <td>3.586758</td>\n",
       "      <td>-0.047076</td>\n",
       "      <td>-1</td>\n",
       "    </tr>\n",
       "    <tr>\n",
       "      <th>15</th>\n",
       "      <td>2.206048</td>\n",
       "      <td>2.161630</td>\n",
       "      <td>0.031585</td>\n",
       "      <td>1</td>\n",
       "    </tr>\n",
       "    <tr>\n",
       "      <th>16</th>\n",
       "      <td>4.804286</td>\n",
       "      <td>5.902047</td>\n",
       "      <td>-0.087390</td>\n",
       "      <td>-1</td>\n",
       "    </tr>\n",
       "    <tr>\n",
       "      <th>17</th>\n",
       "      <td>4.010274</td>\n",
       "      <td>8.877811</td>\n",
       "      <td>-0.078261</td>\n",
       "      <td>-1</td>\n",
       "    </tr>\n",
       "    <tr>\n",
       "      <th>18</th>\n",
       "      <td>8.739412</td>\n",
       "      <td>3.954488</td>\n",
       "      <td>-0.075626</td>\n",
       "      <td>-1</td>\n",
       "    </tr>\n",
       "    <tr>\n",
       "      <th>19</th>\n",
       "      <td>1.633678</td>\n",
       "      <td>5.621243</td>\n",
       "      <td>-0.053020</td>\n",
       "      <td>-1</td>\n",
       "    </tr>\n",
       "  </tbody>\n",
       "</table>\n",
       "</div>"
      ],
      "text/plain": [
       "           x         y     score  outlier\n",
       "0   1.590836  5.225510 -0.060653       -1\n",
       "1   6.321172  4.545047 -0.061819       -1\n",
       "2   8.282232  7.697457 -0.149238       -1\n",
       "3   1.514298  1.074596 -0.089349       -1\n",
       "4   2.325382  6.877196 -0.047846       -1\n",
       "5   6.518534  8.754924 -0.122392       -1\n",
       "6   6.419258  1.353259 -0.070890       -1\n",
       "7   6.375698  8.894960 -0.092804       -1\n",
       "8   1.960446  4.641551 -0.044492       -1\n",
       "9   6.375371  2.611571 -0.012157       -1\n",
       "10  2.347897  3.877460  0.057545        1\n",
       "11  3.272307  6.137422 -0.027488       -1\n",
       "12  1.167581  5.540217 -0.105986       -1\n",
       "13  7.476324  7.834832 -0.140616       -1\n",
       "14  5.720914  3.586758 -0.047076       -1\n",
       "15  2.206048  2.161630  0.031585        1\n",
       "16  4.804286  5.902047 -0.087390       -1\n",
       "17  4.010274  8.877811 -0.078261       -1\n",
       "18  8.739412  3.954488 -0.075626       -1\n",
       "19  1.633678  5.621243 -0.053020       -1"
      ]
     },
     "execution_count": 201,
     "metadata": {},
     "output_type": "execute_result"
    }
   ],
   "source": [
    "supdf['score'] = anomalytrainsup\n",
    "supdf['outlier'] = predicttrainsup\n",
    "supdf.tail(20)"
   ]
  },
  {
   "cell_type": "code",
   "execution_count": 202,
   "metadata": {
    "collapsed": true
   },
   "outputs": [],
   "source": [
    "suptestnorm = supdf[supdf['outlier']==1]\n",
    "suptestout = supdf[supdf['outlier']==-1]"
   ]
  },
  {
   "cell_type": "code",
   "execution_count": 203,
   "metadata": {},
   "outputs": [
    {
     "data": {
      "image/png": "[encoded data removed]",
      "text/plain": [
       "<matplotlib.figure.Figure at 0x7fa912437550>"
      ]
     },
     "metadata": {},
     "output_type": "display_data"
    }
   ],
   "source": [
    "plt.subplots(1, figsize=(10, 5))\n",
    "b1 = plt.scatter(suptestnorm['x'], suptestnorm['y'], c='green',\n",
    "                 s=45, edgecolor='k')\n",
    "x = plt.scatter(suptestout['x'], suptestout['y'], c='orange',\n",
    "                 s=55, edgecolor='k')\n",
    "\n",
    "plt.axis('tight')\n",
    "plt.xlim((0, 10))\n",
    "plt.ylim((0, 10))\n",
    "plt.legend([b1,x],\n",
    "           [\"training normal\",\"training outliers\"],\n",
    "           loc='best')\n",
    "plt.xlabel('',fontsize = 18)\n",
    "plt.ylabel('',fontsize = 18);"
   ]
  },
  {
   "cell_type": "code",
   "execution_count": 218,
   "metadata": {},
   "outputs": [
    {
     "data": {
      "image/png": "[encoded data removed]",
      "text/plain": [
       "<matplotlib.figure.Figure at 0x7fa903569208>"
      ]
     },
     "metadata": {},
     "output_type": "display_data"
    }
   ],
   "source": [
    "plt.subplots(1, figsize=(10, 5))\n",
    "b1 = plt.scatter(X_test[:, 0], X_test[:, 1], c='green',\n",
    "                 s=45, edgecolor='k')\n",
    "\n",
    "plt.axis('tight')\n",
    "plt.xlim((0, 10))\n",
    "plt.ylim((0, 10))\n",
    "plt.legend([b1],\n",
    "           [\"test observations\"],\n",
    "           loc='best')\n",
    "plt.xlabel('',fontsize = 18)\n",
    "plt.ylabel('',fontsize = 18);"
   ]
  },
  {
   "cell_type": "code",
   "execution_count": 250,
   "metadata": {},
   "outputs": [],
   "source": [
    "testdf = pd.DataFrame(X_test)\n",
    "testdf = testdf.rename(columns={0: 'x', 1: 'y'})"
   ]
  },
  {
   "cell_type": "code",
   "execution_count": 256,
   "metadata": {},
   "outputs": [],
   "source": [
    "testdf['unsupout'] = isofortrain.predict(testdf)\n",
    "testdf['supout'] = isofortrainsup.predict(testdf[['x']])"
   ]
  },
  {
   "cell_type": "code",
   "execution_count": 257,
   "metadata": {
    "collapsed": true
   },
   "outputs": [],
   "source": [
    "testunsupnorm = testdf[testdf['unsupout']==1]\n",
    "testunsupout = testdf[testdf['unsupout']==-1]\n",
    "testsupnorm = testdf[testdf['supout']==1]\n",
    "testsupout = testdf[testdf['supout']==-1]"
   ]
  },
  {
   "cell_type": "code",
   "execution_count": 258,
   "metadata": {},
   "outputs": [
    {
     "data": {
      "image/png": "[encoded data removed]",
      "text/plain": [
       "<matplotlib.figure.Figure at 0x7fa9032c2dd8>"
      ]
     },
     "metadata": {},
     "output_type": "display_data"
    }
   ],
   "source": [
    "plt.subplots(1, figsize=(10, 5))\n",
    "b1 = plt.scatter(testunsupnorm['x'], testunsupnorm['y'], c='green',\n",
    "                 s=45, edgecolor='k')\n",
    "b2 = plt.scatter(testunsupout['x'], testunsupout['y'], c='orange',\n",
    "                 s=45, edgecolor='k')\n",
    "plt.axis('tight')\n",
    "plt.xlim((0, 10))\n",
    "plt.ylim((0, 10))\n",
    "plt.legend([b1, b2],\n",
    "           [\"normal observations\",\"outlier unsupervised obervations\"],\n",
    "           loc='best')\n",
    "plt.xlabel('',fontsize = 18)\n",
    "plt.ylabel('',fontsize = 18);"
   ]
  },
  {
   "cell_type": "code",
   "execution_count": 259,
   "metadata": {},
   "outputs": [
    {
     "data": {
      "image/png": "[encoded data removed]",
      "text/plain": [
       "<matplotlib.figure.Figure at 0x7fa9031d79b0>"
      ]
     },
     "metadata": {},
     "output_type": "display_data"
    }
   ],
   "source": [
    "plt.subplots(1, figsize=(10, 5))\n",
    "b1 = plt.scatter(testsupnorm['x'], testsupnorm['y'], c='green',\n",
    "                 s=45, edgecolor='k')\n",
    "b2 = plt.scatter(testsupout['x'], testsupout['y'], c='orange',\n",
    "                 s=45, edgecolor='k')\n",
    "plt.axis('tight')\n",
    "plt.xlim((0, 10))\n",
    "plt.ylim((0, 10))\n",
    "plt.legend([b1, b2],\n",
    "           [\"normal observations\",\"outlier unsupervised obervations\"],\n",
    "           loc='best')\n",
    "plt.xlabel('',fontsize = 18)\n",
    "plt.ylabel('',fontsize = 18);"
   ]
  },
  {
   "cell_type": "code",
   "execution_count": null,
   "metadata": {
    "collapsed": true
   },
   "outputs": [],
   "source": []
  }
 ],
 "metadata": {
  "kernelspec": {
   "display_name": "Python 3",
   "language": "python",
   "name": "python3"
  },
  "language_info": {
   "codemirror_mode": {
    "name": "ipython",
    "version": 3
   },
   "file_extension": ".py",
   "mimetype": "text/x-python",
   "name": "python",
   "nbconvert_exporter": "python",
   "pygments_lexer": "ipython3",
   "version": "3.6.3"
  }
 },
 "nbformat": 4,
 "nbformat_minor": 2
}
